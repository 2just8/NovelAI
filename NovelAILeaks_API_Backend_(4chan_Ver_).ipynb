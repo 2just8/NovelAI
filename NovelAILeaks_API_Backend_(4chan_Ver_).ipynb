{
  "nbformat": 4,
  "nbformat_minor": 0,
  "metadata": {
    "colab": {
      "provenance": [],
      "collapsed_sections": [],
      "include_colab_link": true
    },
    "kernelspec": {
      "name": "python3",
      "display_name": "Python 3"
    },
    "language_info": {
      "name": "python"
    },
    "accelerator": "GPU"
  },
  "cells": [
    {
      "cell_type": "markdown",
      "metadata": {
        "id": "view-in-github",
        "colab_type": "text"
      },
      "source": [
        "<a href=\"https://colab.research.google.com/github/HuaChan233/NovelAI/blob/main/NovelAILeaks_API_Backend_(4chan_Ver_).ipynb\" target=\"_parent\"><img src=\"https://colab.research.google.com/assets/colab-badge.svg\" alt=\"Open In Colab\"/></a>"
      ]
    },
    {
      "cell_type": "markdown",
      "source": [
        "基于 4chan 魔改版 NovelAILeaks (naifu) 制作。[来源](https://boards.4channel.org/g/thread/89095460#p89097704)\n",
        "\n",
        "使用官方前端 + 优化版后端，可突破75限制，支持所有模型。\n",
        "\n",
        "Credit: https://t.me/StableDiffusion_CN https://t.me/exlolicon\n",
        "\n",
        "Thanks: Anonymous, 炼铜术士, 神楽坂早苗️, Jonathan, 咕 咕, 猫又逆变器, Gaein nidb\n",
        "\n"
      ],
      "metadata": {
        "id": "KZ88G-iWCTs7"
      }
    },
    {
      "cell_type": "markdown",
      "source": [
        "0. 检查 GPU 工作状态"
      ],
      "metadata": {
        "id": "XLgD73pxF212"
      }
    },
    {
      "cell_type": "code",
      "execution_count": 1,
      "metadata": {
        "id": "X5yF8TS1CR3L",
        "colab": {
          "base_uri": "https://localhost:8080/"
        },
        "outputId": "8831f147-efa2-4853-d9d5-c72ed5caeb42"
      },
      "outputs": [
        {
          "output_type": "stream",
          "name": "stdout",
          "text": [
            "Tue Oct 11 13:11:12 2022       \n",
            "+-----------------------------------------------------------------------------+\n",
            "| NVIDIA-SMI 460.32.03    Driver Version: 460.32.03    CUDA Version: 11.2     |\n",
            "|-------------------------------+----------------------+----------------------+\n",
            "| GPU  Name        Persistence-M| Bus-Id        Disp.A | Volatile Uncorr. ECC |\n",
            "| Fan  Temp  Perf  Pwr:Usage/Cap|         Memory-Usage | GPU-Util  Compute M. |\n",
            "|                               |                      |               MIG M. |\n",
            "|===============================+======================+======================|\n",
            "|   0  Tesla T4            Off  | 00000000:00:04.0 Off |                    0 |\n",
            "| N/A   64C    P8    11W /  70W |      0MiB / 15109MiB |      0%      Default |\n",
            "|                               |                      |                  N/A |\n",
            "+-------------------------------+----------------------+----------------------+\n",
            "                                                                               \n",
            "+-----------------------------------------------------------------------------+\n",
            "| Processes:                                                                  |\n",
            "|  GPU   GI   CI        PID   Type   Process name                  GPU Memory |\n",
            "|        ID   ID                                                   Usage      |\n",
            "|=============================================================================|\n",
            "|  No running processes found                                                 |\n",
            "+-----------------------------------------------------------------------------+\n"
          ]
        }
      ],
      "source": [
        "!nvidia-smi"
      ]
    },
    {
      "cell_type": "markdown",
      "source": [
        "1. 下载 Novel AI API 后端、模型 （如果下载速度太慢可尝试 restart）"
      ],
      "metadata": {
        "id": "MlTMB-MwF4lC"
      }
    },
    {
      "cell_type": "code",
      "source": [
        "%cd /content/\n",
        "!apt install -y -qq aria2\n",
        "!aria2c --summary-interval=5 -x 3 --allow-overwrite=true -Z \\\n",
        "  https://pub-2fdef7a2969f43289c42ac5ae3412fd4.r2.dev/naifu.tar \\\n",
        "  https://pub-2fdef7a2969f43289c42ac5ae3412fd4.r2.dev/animefull-latest.tar \n",
        "  \n",
        "!tar xf naifu.tar && rm naifu.tar"
      ],
      "metadata": {
        "id": "iqTO_Uf3F6VW"
      },
      "execution_count": null,
      "outputs": []
    },
    {
      "cell_type": "markdown",
      "source": [
        "2. 安装依赖"
      ],
      "metadata": {
        "id": "FyD6cZlYGPpU"
      }
    },
    {
      "cell_type": "code",
      "source": [
        "%cd /content/naifu\n",
        "!pip install virtualenv && bash ./setup.sh\n",
        "!curl -Ls https://github.com/ekzhang/bore/releases/download/v0.4.0/bore-v0.4.0-x86_64-unknown-linux-musl.tar.gz | tar zx -C /usr/bin\n",
        "!curl -Lo /usr/bin/cloudflared https://github.com/cloudflare/cloudflared/releases/latest/download/cloudflared-linux-amd64 && chmod +x /usr/bin/cloudflared"
      ],
      "metadata": {
        "id": "BysBfYRmGSo1"
      },
      "execution_count": null,
      "outputs": []
    },
    {
      "cell_type": "markdown",
      "source": [
        "3. 启动模型，访问输出的映射地址（以 `trycloudflare.com` / `bore.pub` 结尾）即可。\n",
        "   - 请等待模型加载完成（出现`Application startup complete`字样）再访问\n",
        "   - cloudflare 提供的服务偶尔会出现请求超时，可换用 bore 隧道"
      ],
      "metadata": {
        "id": "B8uY16kgGHrw"
      }
    },
    {
      "cell_type": "code",
      "source": [
        "%cd /content/naifu\n",
        "!sed -i 's/# export SAVE_FILES=\"1\"/export SAVE_FILES=\"1\"/g' run.sh\n",
        "!bash run.sh & cloudflared tunnel --url localhost:6969 "
      ],
      "metadata": {
        "id": "uQBR9zXQGJrn"
      },
      "execution_count": null,
      "outputs": []
    },
    {
      "cell_type": "markdown",
      "source": [
        "4. (可选）默认使用的是 4G 大小的 `animefull-final-pruned` 模型。如果想使用 7G 的 `animefull-latest` 模型，运行这个"
      ],
      "metadata": {
        "id": "Mh-sRTlMyVDD"
      }
    },
    {
      "cell_type": "code",
      "source": [
        "%cd /content/\n",
        "!tar xf animefull-latest.tar -C /content/naifu/models && rm animefull-latest.tar\n",
        "!sed -i 's/map_location=\"cpu\"/map_location=\"cuda\"/g' /content/naifu/hydra_node/models.py\n",
        "\n",
        "%cd /content/naifu\n",
        "%env DTYPE=float16\n",
        "%env CLIP_CONTEXTS=3\n",
        "%env AMP=1\n",
        "%env MODEL=stable-diffusion\n",
        "%env DEV=True\n",
        "%env MODEL_PATH=models/animefull-latest\n",
        "%env ENABLE_EMA=1\n",
        "%env VAE_PATH=models/animevae.pt\n",
        "%env PENULTIMATE=1\n",
        "%env PYTHONDONTWRITEBYTECODE=1\n",
        "%env SAVE_FILES=1\n",
        "\n",
        "!./venv/bin/python -m uvicorn --host 0.0.0.0 --port=6969 main:app & bore local 6969 --to bore.pub & cloudflared tunnel --url localhost:6969 "
      ],
      "metadata": {
        "id": "B9j9thAby5_2"
      },
      "execution_count": null,
      "outputs": []
    }
  ]
}